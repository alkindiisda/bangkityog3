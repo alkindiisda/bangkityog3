{
  "nbformat": 4,
  "nbformat_minor": 0,
  "metadata": {
    "colab": {
      "name": "bangkityog3.ipynb",
      "provenance": [],
      "authorship_tag": "ABX9TyOyvU1wPQ04/UdFnTWbHu/v",
      "include_colab_link": true
    },
    "kernelspec": {
      "name": "python3",
      "display_name": "Python 3"
    }
  },
  "cells": [
    {
      "cell_type": "markdown",
      "metadata": {
        "id": "view-in-github",
        "colab_type": "text"
      },
      "source": [
        "<a href=\"https://colab.research.google.com/github/alkindiisda/bangkityog3/blob/master/bangkityog3.ipynb\" target=\"_parent\"><img src=\"https://colab.research.google.com/assets/colab-badge.svg\" alt=\"Open In Colab\"/></a>"
      ]
    },
    {
      "cell_type": "code",
      "metadata": {
        "id": "WanmElGYvjqb",
        "colab_type": "code",
        "colab": {}
      },
      "source": [
        "#test"
      ],
      "execution_count": 0,
      "outputs": []
    }
  ]
}